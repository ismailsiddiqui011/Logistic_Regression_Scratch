{
 "cells": [
  {
   "cell_type": "code",
   "execution_count": 1,
   "metadata": {},
   "outputs": [],
   "source": [
    "import pandas as pd\n",
    "import numpy as np\n",
    "import math\n",
    "from tqdm import tqdm as tq"
   ]
  },
  {
   "cell_type": "code",
   "execution_count": 2,
   "metadata": {},
   "outputs": [],
   "source": [
    "df = pd.read_csv('haberman.csv')\n",
    "\n",
    "df = df.sample(frac=1).reset_index(drop=True) #Shuffling Dataframe\n",
    "\n",
    "x_train = df.iloc[ : 50, :] #Slicing Dataframe for Train Data\n",
    "df_cv = df.iloc[50 : 76, :] #Slicing Dataframe for CV Data\n",
    "df_test  = df.iloc[76 : , :] #Slicing Dataframe for Test Data\n",
    "\n",
    "y_train = x_train.iloc[:, -1:]\n",
    "x_train = x_train.drop('status', axis = 1)\n",
    "\n",
    "y_cv = df_cv.iloc[:, -1:]\n",
    "x_cv = df_cv.drop('status', axis = 1)\n",
    "\n",
    "y_test = df_test.iloc[:, -1:]\n",
    "x_test = df_test.drop('status', axis = 1)"
   ]
  },
  {
   "cell_type": "code",
   "execution_count": 3,
   "metadata": {},
   "outputs": [],
   "source": [
    "def convt(inp_data): #Converting Categorical Feature to Binary\n",
    "    temp = []\n",
    "    for i in range(len(inp_data)):\n",
    "        if list(inp_data['status'].values)[i] == 1:\n",
    "            temp.append(1)\n",
    "        else:\n",
    "            temp.append(-1)\n",
    "    return temp"
   ]
  },
  {
   "cell_type": "code",
   "execution_count": 4,
   "metadata": {},
   "outputs": [],
   "source": [
    "y_train = convt(y_train)\n",
    "y_cv = convt(y_cv)\n",
    "y_test = convt(y_test)"
   ]
  },
  {
   "cell_type": "markdown",
   "metadata": {},
   "source": [
    "## Stand Scaler"
   ]
  },
  {
   "cell_type": "code",
   "execution_count": 5,
   "metadata": {},
   "outputs": [],
   "source": [
    "def scal(inpt_data):\n",
    "    df1 = pd.DataFrame() #Empty DataFrame\n",
    "    len_col = len(inpt_data.columns.values) #Number of coloumns\n",
    "    for j in range(len_col): #\n",
    "        summ = 0\n",
    "        data = inpt_data.iloc[ : , j:j+1 ].values\n",
    "        for i in data:\n",
    "            summ += i # Taking sum of all row in a feature\n",
    "        mean = summ/(len(data)) #Calculating mean\n",
    "\n",
    "        diff = 0\n",
    "        summ = 0\n",
    "        for i in data:\n",
    "            diff = (i - mean)**2\n",
    "            summ += diff\n",
    "        sd = summ / (len(data)) #Calculating SD\n",
    "        sd = (sd)**(1/2)\n",
    "\n",
    "        arr = []\n",
    "        for i in data:\n",
    "            arr.append((i - mean) / (sd))\n",
    "        arr = np.array(arr)\n",
    "        arr = pd.DataFrame(data = arr)\n",
    "        df1 = pd.concat([df1, arr], axis = 1) #Appending Scaled Values in Empty DataFrame\n",
    "    return df1"
   ]
  },
  {
   "cell_type": "code",
   "execution_count": 6,
   "metadata": {},
   "outputs": [],
   "source": [
    "x_train = scal(x_train)\n",
    "x_cv = scal(x_cv)\n",
    "x_test = scal(x_test)"
   ]
  },
  {
   "cell_type": "code",
   "execution_count": 7,
   "metadata": {},
   "outputs": [],
   "source": [
    "def solver(data, w, lam, y_true): #Using this equation -> https://imgur.com/a/Y98XxNC Eq.1\n",
    "    data = data.reshape((len(data), 1))\n",
    "    w_t = w.T\n",
    "    y_pred, l2, temp, z = [0, 0, 0, 0]\n",
    "    prod = np.dot(w_t, data)\n",
    "    z = (y_true * prod)\n",
    "    l2 = lam * (np.dot(w_t, w)) #Regularization Term\n",
    "    y_pred = (1.0 +  math.exp(-z))\n",
    "    y_pred = math.log(y_pred) + l2 #Adding L2 Norm\n",
    "    return y_pred"
   ]
  },
  {
   "cell_type": "code",
   "execution_count": 8,
   "metadata": {
    "scrolled": true
   },
   "outputs": [],
   "source": [
    "def sgd(w, iterr, lr, lam, dataframe, y_true): #By differentiating Eq.1 we get -> https://imgur.com/a/IQzVTVe Eq.2\n",
    "    for i in tq(range(iterr)):#To avoid math error take absolute equation i.e remove -ve sign from Eq.2 -> https://imgur.com/wAh6OeG\n",
    "        err_sum = 0\n",
    "        pred = []\n",
    "        for j in range(dataframe.shape[0]):\n",
    "            y_pred = solver(np.array(dataframe.loc[j]), w, lam, y_true[j])\n",
    "            err = (y_true[j]) - (y_pred)\n",
    "            err_sum += (err)**2\n",
    "            for k in range(dataframe.shape[1]):\n",
    "                num  = (w[k] * y_pred)\n",
    "                prod = (w[k] * y_pred * dataframe.iloc[j,k])\n",
    "                deno = (math.exp(prod)) + 1\n",
    "                w[k] = w[k] - lr * (num/deno)\n",
    "    return [err_sum, w]"
   ]
  },
  {
   "cell_type": "markdown",
   "metadata": {},
   "source": [
    "## Tester"
   ]
  },
  {
   "cell_type": "code",
   "execution_count": 9,
   "metadata": {},
   "outputs": [
    {
     "name": "stderr",
     "output_type": "stream",
     "text": [
      "100%|████████████████████████████████████████████████████████████████████████████████| 500/500 [00:14<00:00, 33.77it/s]\n",
      "  2%|█▎                                                                                | 8/500 [00:00<00:15, 32.41it/s]"
     ]
    },
    {
     "name": "stdout",
     "output_type": "stream",
     "text": [
      "When lambda: 1 Error: 152.78302073657267\n"
     ]
    },
    {
     "name": "stderr",
     "output_type": "stream",
     "text": [
      "100%|████████████████████████████████████████████████████████████████████████████████| 500/500 [00:15<00:00, 32.90it/s]\n",
      "  1%|▋                                                                                 | 4/500 [00:00<00:13, 36.36it/s]"
     ]
    },
    {
     "name": "stdout",
     "output_type": "stream",
     "text": [
      "When lambda: 2 Error: 148.6896747339697\n"
     ]
    },
    {
     "name": "stderr",
     "output_type": "stream",
     "text": [
      "100%|████████████████████████████████████████████████████████████████████████████████| 500/500 [00:15<00:00, 32.92it/s]\n",
      "  1%|▋                                                                                 | 4/500 [00:00<00:15, 33.06it/s]"
     ]
    },
    {
     "name": "stdout",
     "output_type": "stream",
     "text": [
      "When lambda: 3 Error: 127.01368319409156\n"
     ]
    },
    {
     "name": "stderr",
     "output_type": "stream",
     "text": [
      "100%|████████████████████████████████████████████████████████████████████████████████| 500/500 [00:15<00:00, 33.32it/s]\n",
      "  1%|▋                                                                                 | 4/500 [00:00<00:14, 35.09it/s]"
     ]
    },
    {
     "name": "stdout",
     "output_type": "stream",
     "text": [
      "When lambda: 4 Error: 106.9469421526713\n"
     ]
    },
    {
     "name": "stderr",
     "output_type": "stream",
     "text": [
      "100%|████████████████████████████████████████████████████████████████████████████████| 500/500 [00:15<00:00, 33.29it/s]\n",
      "  0%|▎                                                                                 | 2/500 [00:00<00:26, 19.05it/s]"
     ]
    },
    {
     "name": "stdout",
     "output_type": "stream",
     "text": [
      "When lambda: 5 Error: 91.62542991846614\n"
     ]
    },
    {
     "name": "stderr",
     "output_type": "stream",
     "text": [
      "100%|████████████████████████████████████████████████████████████████████████████████| 500/500 [00:14<00:00, 33.39it/s]\n",
      "  2%|█▎                                                                                | 8/500 [00:00<00:12, 37.88it/s]"
     ]
    },
    {
     "name": "stdout",
     "output_type": "stream",
     "text": [
      "When lambda: 6 Error: 80.40723232037644\n"
     ]
    },
    {
     "name": "stderr",
     "output_type": "stream",
     "text": [
      "100%|████████████████████████████████████████████████████████████████████████████████| 500/500 [00:15<00:00, 33.32it/s]\n",
      "  1%|▍                                                                                 | 3/500 [00:00<00:18, 27.03it/s]"
     ]
    },
    {
     "name": "stdout",
     "output_type": "stream",
     "text": [
      "When lambda: 7 Error: 72.20913388832226\n"
     ]
    },
    {
     "name": "stderr",
     "output_type": "stream",
     "text": [
      "100%|████████████████████████████████████████████████████████████████████████████████| 500/500 [00:14<00:00, 33.46it/s]\n",
      "  1%|▋                                                                                 | 4/500 [00:00<00:14, 35.08it/s]"
     ]
    },
    {
     "name": "stdout",
     "output_type": "stream",
     "text": [
      "When lambda: 8 Error: 66.15410639492504\n"
     ]
    },
    {
     "name": "stderr",
     "output_type": "stream",
     "text": [
      "100%|████████████████████████████████████████████████████████████████████████████████| 500/500 [00:14<00:00, 33.68it/s]\n",
      "  1%|▋                                                                                 | 4/500 [00:00<00:17, 28.78it/s]"
     ]
    },
    {
     "name": "stdout",
     "output_type": "stream",
     "text": [
      "When lambda: 9 Error: 61.61661620172714\n"
     ]
    },
    {
     "name": "stderr",
     "output_type": "stream",
     "text": [
      "100%|████████████████████████████████████████████████████████████████████████████████| 500/500 [00:14<00:00, 33.89it/s]\n",
      "  1%|▋                                                                                 | 4/500 [00:00<00:15, 33.06it/s]"
     ]
    },
    {
     "name": "stdout",
     "output_type": "stream",
     "text": [
      "When lambda: 10 Error: 58.16400499245019\n"
     ]
    },
    {
     "name": "stderr",
     "output_type": "stream",
     "text": [
      "100%|████████████████████████████████████████████████████████████████████████████████| 500/500 [00:14<00:00, 33.50it/s]\n",
      "  1%|▋                                                                                 | 4/500 [00:00<00:12, 39.21it/s]"
     ]
    },
    {
     "name": "stdout",
     "output_type": "stream",
     "text": [
      "When lambda: 11 Error: 55.49768768222807\n"
     ]
    },
    {
     "name": "stderr",
     "output_type": "stream",
     "text": [
      "100%|████████████████████████████████████████████████████████████████████████████████| 500/500 [00:14<00:00, 33.71it/s]\n",
      "  2%|█▎                                                                                | 8/500 [00:00<00:13, 35.97it/s]"
     ]
    },
    {
     "name": "stdout",
     "output_type": "stream",
     "text": [
      "When lambda: 12 Error: 53.409889776540695\n"
     ]
    },
    {
     "name": "stderr",
     "output_type": "stream",
     "text": [
      "100%|████████████████████████████████████████████████████████████████████████████████| 500/500 [00:15<00:00, 32.04it/s]\n",
      "  1%|▋                                                                                 | 4/500 [00:00<00:15, 32.52it/s]"
     ]
    },
    {
     "name": "stdout",
     "output_type": "stream",
     "text": [
      "When lambda: 13 Error: 51.754198380655374\n"
     ]
    },
    {
     "name": "stderr",
     "output_type": "stream",
     "text": [
      "100%|████████████████████████████████████████████████████████████████████████████████| 500/500 [00:14<00:00, 33.35it/s]\n",
      "  1%|▋                                                                                 | 4/500 [00:00<00:14, 33.61it/s]"
     ]
    },
    {
     "name": "stdout",
     "output_type": "stream",
     "text": [
      "When lambda: 14 Error: 50.42596341976062\n"
     ]
    },
    {
     "name": "stderr",
     "output_type": "stream",
     "text": [
      "100%|████████████████████████████████████████████████████████████████████████████████| 500/500 [00:15<00:00, 32.85it/s]\n",
      "  2%|█▎                                                                                | 8/500 [00:00<00:15, 32.33it/s]"
     ]
    },
    {
     "name": "stdout",
     "output_type": "stream",
     "text": [
      "When lambda: 15 Error: 49.34928730342917\n"
     ]
    },
    {
     "name": "stderr",
     "output_type": "stream",
     "text": [
      "100%|████████████████████████████████████████████████████████████████████████████████| 500/500 [00:15<00:00, 33.07it/s]\n",
      "  1%|▍                                                                                 | 3/500 [00:00<00:17, 28.85it/s]"
     ]
    },
    {
     "name": "stdout",
     "output_type": "stream",
     "text": [
      "When lambda: 16 Error: 48.468333175914324\n"
     ]
    },
    {
     "name": "stderr",
     "output_type": "stream",
     "text": [
      "100%|████████████████████████████████████████████████████████████████████████████████| 500/500 [00:15<00:00, 32.81it/s]\n",
      "  1%|▍                                                                                 | 3/500 [00:00<00:19, 25.64it/s]"
     ]
    },
    {
     "name": "stdout",
     "output_type": "stream",
     "text": [
      "When lambda: 17 Error: 47.74145641709464\n"
     ]
    },
    {
     "name": "stderr",
     "output_type": "stream",
     "text": [
      "100%|████████████████████████████████████████████████████████████████████████████████| 500/500 [00:15<00:00, 33.19it/s]\n",
      "  1%|▍                                                                                 | 3/500 [00:00<00:20, 24.59it/s]"
     ]
    },
    {
     "name": "stdout",
     "output_type": "stream",
     "text": [
      "When lambda: 18 Error: 47.13719231794381\n"
     ]
    },
    {
     "name": "stderr",
     "output_type": "stream",
     "text": [
      "100%|████████████████████████████████████████████████████████████████████████████████| 500/500 [00:15<00:00, 32.46it/s]\n",
      "  1%|▋                                                                                 | 4/500 [00:00<00:16, 30.07it/s]"
     ]
    },
    {
     "name": "stdout",
     "output_type": "stream",
     "text": [
      "When lambda: 19 Error: 46.63147618535889\n"
     ]
    },
    {
     "name": "stderr",
     "output_type": "stream",
     "text": [
      "100%|████████████████████████████████████████████████████████████████████████████████| 500/500 [00:15<00:00, 33.04it/s]\n",
      "  1%|█▏                                                                                | 7/500 [00:00<00:13, 35.55it/s]"
     ]
    },
    {
     "name": "stdout",
     "output_type": "stream",
     "text": [
      "When lambda: 20 Error: 46.20569151194956\n"
     ]
    },
    {
     "name": "stderr",
     "output_type": "stream",
     "text": [
      "100%|████████████████████████████████████████████████████████████████████████████████| 500/500 [00:16<00:00, 30.37it/s]\n",
      "  1%|▋                                                                                 | 4/500 [00:00<00:14, 35.08it/s]"
     ]
    },
    {
     "name": "stdout",
     "output_type": "stream",
     "text": [
      "When lambda: 21 Error: 45.845281650100716\n"
     ]
    },
    {
     "name": "stderr",
     "output_type": "stream",
     "text": [
      "100%|████████████████████████████████████████████████████████████████████████████████| 500/500 [00:15<00:00, 33.06it/s]\n",
      "  1%|▊                                                                                 | 5/500 [00:00<00:12, 40.32it/s]"
     ]
    },
    {
     "name": "stdout",
     "output_type": "stream",
     "text": [
      "When lambda: 22 Error: 45.53874993730157\n"
     ]
    },
    {
     "name": "stderr",
     "output_type": "stream",
     "text": [
      "100%|████████████████████████████████████████████████████████████████████████████████| 500/500 [00:15<00:00, 32.96it/s]\n",
      "  1%|▋                                                                                 | 4/500 [00:00<00:14, 35.40it/s]"
     ]
    },
    {
     "name": "stdout",
     "output_type": "stream",
     "text": [
      "When lambda: 23 Error: 45.27693101997136\n"
     ]
    },
    {
     "name": "stderr",
     "output_type": "stream",
     "text": [
      "100%|████████████████████████████████████████████████████████████████████████████████| 500/500 [00:14<00:00, 33.77it/s]\n",
      "  1%|▋                                                                                 | 4/500 [00:00<00:14, 33.90it/s]"
     ]
    },
    {
     "name": "stdout",
     "output_type": "stream",
     "text": [
      "When lambda: 24 Error: 45.052453848318365\n"
     ]
    },
    {
     "name": "stderr",
     "output_type": "stream",
     "text": [
      "100%|████████████████████████████████████████████████████████████████████████████████| 500/500 [00:14<00:00, 33.91it/s]\n",
      "  2%|█▎                                                                                | 8/500 [00:00<00:12, 38.39it/s]"
     ]
    },
    {
     "name": "stdout",
     "output_type": "stream",
     "text": [
      "When lambda: 25 Error: 44.85934172730315\n"
     ]
    },
    {
     "name": "stderr",
     "output_type": "stream",
     "text": [
      "100%|████████████████████████████████████████████████████████████████████████████████| 500/500 [00:14<00:00, 33.91it/s]\n",
      "  1%|█▏                                                                                | 7/500 [00:00<00:17, 28.23it/s]"
     ]
    },
    {
     "name": "stdout",
     "output_type": "stream",
     "text": [
      "When lambda: 26 Error: 44.69271146056706\n"
     ]
    },
    {
     "name": "stderr",
     "output_type": "stream",
     "text": [
      "100%|████████████████████████████████████████████████████████████████████████████████| 500/500 [00:14<00:00, 33.39it/s]\n",
      "  1%|▋                                                                                 | 4/500 [00:00<00:13, 37.38it/s]"
     ]
    },
    {
     "name": "stdout",
     "output_type": "stream",
     "text": [
      "When lambda: 27 Error: 44.548544890285214\n"
     ]
    },
    {
     "name": "stderr",
     "output_type": "stream",
     "text": [
      "100%|████████████████████████████████████████████████████████████████████████████████| 500/500 [00:14<00:00, 33.73it/s]\n",
      "  1%|▍                                                                                 | 3/500 [00:00<00:16, 29.41it/s]"
     ]
    },
    {
     "name": "stdout",
     "output_type": "stream",
     "text": [
      "When lambda: 28 Error: 44.423513849629344\n"
     ]
    },
    {
     "name": "stderr",
     "output_type": "stream",
     "text": [
      "100%|████████████████████████████████████████████████████████████████████████████████| 500/500 [00:15<00:00, 33.13it/s]\n",
      "  1%|▍                                                                                 | 3/500 [00:00<00:18, 27.03it/s]"
     ]
    },
    {
     "name": "stdout",
     "output_type": "stream",
     "text": [
      "When lambda: 29 Error: 44.314844887442185\n"
     ]
    },
    {
     "name": "stderr",
     "output_type": "stream",
     "text": [
      "100%|████████████████████████████████████████████████████████████████████████████████| 500/500 [00:15<00:00, 33.29it/s]"
     ]
    },
    {
     "name": "stdout",
     "output_type": "stream",
     "text": [
      "When lambda: 30 Error: 44.22021386685363\n"
     ]
    },
    {
     "name": "stderr",
     "output_type": "stream",
     "text": [
      "\n"
     ]
    }
   ],
   "source": [
    "iterr = 500\n",
    "lr = 0.00001\n",
    "ini_w =  np.random.uniform(size = (x_train.shape[1], 1))\n",
    "for i in range(1, 31):\n",
    "    lam = i\n",
    "    w = sgd(ini_w, iterr, lr, lam, x_train, y_train)\n",
    "    print( 'When lambda:', lam, 'Error:',w[0][0][0])"
   ]
  },
  {
   "cell_type": "code",
   "execution_count": 14,
   "metadata": {},
   "outputs": [],
   "source": [
    "def tester(X, y_true, lam, w):\n",
    "    y_pred = []\n",
    "    for i in range(X.shape[0]):\n",
    "        y_pred.append(solver(np.array(X.iloc[i]), w, lam, y_true[i]))\n",
    "    crt = 0 #Counter for correct prediction\n",
    "    incrt = 0 #Counter for incorrect prediction\n",
    "    for j in range(len(y_true)):\n",
    "        if (y_pred[j]) > 0.5: #Creating a ththreshold\n",
    "            crt += 1\n",
    "        elif (y_pred[j]) < 0.5:\n",
    "            incrt += 1\n",
    "    print('Correct: ', crt, 'Incorrect: ', incrt)\n",
    "    print('Accuracy: ',crt/(X.shape[0])*100, '%')"
   ]
  },
  {
   "cell_type": "code",
   "execution_count": 15,
   "metadata": {},
   "outputs": [
    {
     "name": "stdout",
     "output_type": "stream",
     "text": [
      "Correct:  50 Incorrect:  0\n",
      "Accuracy:  100.0 %\n"
     ]
    }
   ],
   "source": [
    "tester(x_train, y_train, lam, w[1])"
   ]
  },
  {
   "cell_type": "code",
   "execution_count": 16,
   "metadata": {},
   "outputs": [
    {
     "name": "stdout",
     "output_type": "stream",
     "text": [
      "Correct:  26 Incorrect:  0\n",
      "Accuracy:  100.0 %\n"
     ]
    }
   ],
   "source": [
    "tester(x_cv, y_cv, lam, w[1])"
   ]
  },
  {
   "cell_type": "code",
   "execution_count": 17,
   "metadata": {},
   "outputs": [
    {
     "name": "stdout",
     "output_type": "stream",
     "text": [
      "Correct:  24 Incorrect:  0\n",
      "Accuracy:  100.0 %\n"
     ]
    }
   ],
   "source": [
    "tester(x_test, y_test, lam, w[1])"
   ]
  },
  {
   "cell_type": "code",
   "execution_count": null,
   "metadata": {},
   "outputs": [],
   "source": []
  }
 ],
 "metadata": {
  "kernelspec": {
   "display_name": "Python 3",
   "language": "python",
   "name": "python3"
  },
  "language_info": {
   "codemirror_mode": {
    "name": "ipython",
    "version": 3
   },
   "file_extension": ".py",
   "mimetype": "text/x-python",
   "name": "python",
   "nbconvert_exporter": "python",
   "pygments_lexer": "ipython3",
   "version": "3.8.3"
  }
 },
 "nbformat": 4,
 "nbformat_minor": 4
}
